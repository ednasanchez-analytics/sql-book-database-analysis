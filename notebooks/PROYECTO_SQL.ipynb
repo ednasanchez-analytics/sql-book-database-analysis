{
 "cells": [
  {
   "cell_type": "markdown",
   "id": "6255de9a-5a9f-4054-8270-f44100fd8e70",
   "metadata": {},
   "source": [
    "## 🎯 Objetivo del Proyecto\n",
    "\n",
    "El objetivo de este análisis es extraer información útil desde una base de datos relacional de una plataforma de lectura digital, con el fin de apoyar el desarrollo de una propuesta de valor para un nuevo producto. \n",
    "\n",
    "Se estudiarán aspectos como:\n",
    "- Volumen de libros publicados recientemente\n",
    "- Participación de editoriales\n",
    "- Reseñas y calificaciones de los usuarios\n",
    "- Autores con mejor desempeño"
   ]
  },
  {
   "cell_type": "markdown",
   "id": "c216c23c-7f7b-41f0-989f-4c0ea2e2d4c2",
   "metadata": {},
   "source": [
    "## 🔌 Conexión a la Base de Datos\n",
    "\n",
    "Usaremos SQLAlchemy para conectarnos a la base de datos PostgreSQL proporcionada por TripleTen. Recuerda que el archivo `CA.pem` debe estar en la misma carpeta del proyecto para habilitar la conexión segura.\n"
   ]
  },
  {
   "cell_type": "code",
   "execution_count": 18,
   "id": "832253a6-e10f-489e-b50d-769a2145e0db",
   "metadata": {},
   "outputs": [],
   "source": [
    "# importar librerías\n",
    "import pandas as pd\n",
    "from sqlalchemy import create_engine\n",
    "\n",
    "\n",
    "db_config = {'user': 'practicum_student',         # nombre de usuario\n",
    "             'pwd': 's65BlTKV3faNIGhmvJVzOqhs', # contraseña\n",
    "             'host': 'rc1b-wcoijxj3yxfsf3fs.mdb.yandexcloud.net',\n",
    "             'port': 6432,              # puerto de conexión\n",
    "             'db': 'data-analyst-final-project-db'}          # nombre de la base de datos\n",
    "\n",
    "connection_string = 'postgresql://{}:{}@{}:{}/{}'.format(db_config['user'],\n",
    "                                                                     db_config['pwd'],\n",
    "                                                                       db_config['host'],\n",
    "                                                                       db_config['port'],\n",
    "                                                                       db_config['db'])\n",
    "\n",
    "engine = create_engine(connection_string, connect_args={'sslmode':'require'})\n"
   ]
  },
  {
   "cell_type": "markdown",
   "id": "312ce939-a6ec-4cd1-94c0-354754918879",
   "metadata": {},
   "source": [
    "## 🗃️ Exploración de Tablas\n",
    "Se consultan las primeras filas de cada tabla para conocer su estructura y los tipos de datos."
   ]
  },
  {
   "cell_type": "code",
   "execution_count": 6,
   "id": "98c01338-493c-4410-b8d1-95dc78dbdf7c",
   "metadata": {},
   "outputs": [
    {
     "name": "stdout",
     "output_type": "stream",
     "text": [
      "   book_id  author_id                                              title  \\\n",
      "0        1        546                                       'Salem's Lot   \n",
      "1        2        465                 1 000 Places to See Before You Die   \n",
      "2        3        407  13 Little Blue Envelopes (Little Blue Envelope...   \n",
      "3        4         82  1491: New Revelations of the Americas Before C...   \n",
      "4        5        125                                               1776   \n",
      "\n",
      "   num_pages publication_date  publisher_id  \n",
      "0        594       2005-11-01            93  \n",
      "1        992       2003-05-22           336  \n",
      "2        322       2010-12-21           135  \n",
      "3        541       2006-10-10           309  \n",
      "4        386       2006-07-04           268  \n",
      "   author_id                          author\n",
      "0          1                      A.S. Byatt\n",
      "1          2  Aesop/Laura Harris/Laura Gibbs\n",
      "2          3                 Agatha Christie\n",
      "3          4                   Alan Brennert\n",
      "4          5        Alan Moore/David   Lloyd\n",
      "   publisher_id                          publisher\n",
      "0             1                                Ace\n",
      "1             2                           Ace Book\n",
      "2             3                          Ace Books\n",
      "3             4                      Ace Hardcover\n",
      "4             5  Addison Wesley Publishing Company\n",
      "   rating_id  book_id       username  rating\n",
      "0          1        1     ryanfranco       4\n",
      "1          2        1  grantpatricia       2\n",
      "2          3        1   brandtandrea       5\n",
      "3          4        2       lorichen       3\n",
      "4          5        2    mariokeller       2\n",
      "   review_id  book_id       username  \\\n",
      "0          1        1   brandtandrea   \n",
      "1          2        1     ryanfranco   \n",
      "2          3        2       lorichen   \n",
      "3          4        3  johnsonamanda   \n",
      "4          5        3    scotttamara   \n",
      "\n",
      "                                                text  \n",
      "0  Mention society tell send professor analysis. ...  \n",
      "1  Foot glass pretty audience hit themselves. Amo...  \n",
      "2  Listen treat keep worry. Miss husband tax but ...  \n",
      "3  Finally month interesting blue could nature cu...  \n",
      "4  Nation purpose heavy give wait song will. List...  \n"
     ]
    }
   ],
   "source": [
    "# Ver primeras filas de cada tabla\n",
    "print(pd.read_sql('SELECT * FROM books LIMIT 5', con=engine))\n",
    "print(pd.read_sql('SELECT * FROM authors LIMIT 5', con=engine))\n",
    "print(pd.read_sql('SELECT * FROM publishers LIMIT 5', con=engine))\n",
    "print(pd.read_sql('SELECT * FROM ratings LIMIT 5', con=engine))\n",
    "print(pd.read_sql('SELECT * FROM reviews LIMIT 5', con=engine))\n"
   ]
  },
  {
   "cell_type": "markdown",
   "id": "28128cf2-5362-43ad-935f-18207e2d4ea2",
   "metadata": {},
   "source": [
    "## 🔍 Consultas y Resultados\n",
    "A continuación, se realizan las consultas solicitadas en el proyecto."
   ]
  },
  {
   "cell_type": "markdown",
   "id": "d98207f8-4a8b-4b06-a77b-3527528d4bb7",
   "metadata": {},
   "source": [
    "### 1. Libros publicados después del 1 de enero de 2000"
   ]
  },
  {
   "cell_type": "markdown",
   "id": "19cedf34-9cc2-402f-9506-32ad9a752702",
   "metadata": {},
   "source": [
    "**Consulta:** Se seleccionan libros cuya fecha de publicación sea posterior a '2000-01-01'.\n",
    "**Objetivo:** Conocer el volumen de libros recientes en la plataforma."
   ]
  },
  {
   "cell_type": "code",
   "execution_count": 13,
   "id": "29b4dc34-91ee-400b-9a74-5da40a6bcddc",
   "metadata": {},
   "outputs": [
    {
     "data": {
      "text/html": [
       "<div>\n",
       "<style scoped>\n",
       "    .dataframe tbody tr th:only-of-type {\n",
       "        vertical-align: middle;\n",
       "    }\n",
       "\n",
       "    .dataframe tbody tr th {\n",
       "        vertical-align: top;\n",
       "    }\n",
       "\n",
       "    .dataframe thead th {\n",
       "        text-align: right;\n",
       "    }\n",
       "</style>\n",
       "<table border=\"1\" class=\"dataframe\">\n",
       "  <thead>\n",
       "    <tr style=\"text-align: right;\">\n",
       "      <th></th>\n",
       "      <th>books_after_2000</th>\n",
       "    </tr>\n",
       "  </thead>\n",
       "  <tbody>\n",
       "    <tr>\n",
       "      <th>0</th>\n",
       "      <td>819</td>\n",
       "    </tr>\n",
       "  </tbody>\n",
       "</table>\n",
       "</div>"
      ],
      "text/plain": [
       "   books_after_2000\n",
       "0               819"
      ]
     },
     "execution_count": 13,
     "metadata": {},
     "output_type": "execute_result"
    }
   ],
   "source": [
    "query1 = \"\"\"\n",
    "SELECT COUNT(*) AS books_after_2000\n",
    "FROM books\n",
    "WHERE publication_date > '2000-01-01'\n",
    "\"\"\"\n",
    "pd.read_sql(query1, con=engine)\n"
   ]
  },
  {
   "cell_type": "markdown",
   "id": "30c7defe-3336-4bd6-88a0-55c745501679",
   "metadata": {},
   "source": [
    "**Conclusión:** Esta métrica ayuda a identificar cuántos títulos recientes se tienen en el catálogo, ideal para enfocar una app en contenido moderno.\n"
   ]
  },
  {
   "cell_type": "markdown",
   "id": "66c141dd-70c1-44dd-852f-732a3e05eeb5",
   "metadata": {},
   "source": [
    "### 2. Número de reseñas de usuarios y calificación promedio por libro"
   ]
  },
  {
   "cell_type": "markdown",
   "id": "1b72b6dd-3428-43d7-9df6-ef1cfe70dbb7",
   "metadata": {},
   "source": [
    "**Consulta:** Se agrupan los libros y se cuentan las reseñas, además de calcular la calificación promedio.\n",
    "**Objetivo:** Identificar qué libros generan mayor interacción y satisfacción."
   ]
  },
  {
   "cell_type": "code",
   "execution_count": 14,
   "id": "a876fe80-c7ca-4363-b3d9-e4b41d13ac2a",
   "metadata": {},
   "outputs": [
    {
     "data": {
      "text/html": [
       "<div>\n",
       "<style scoped>\n",
       "    .dataframe tbody tr th:only-of-type {\n",
       "        vertical-align: middle;\n",
       "    }\n",
       "\n",
       "    .dataframe tbody tr th {\n",
       "        vertical-align: top;\n",
       "    }\n",
       "\n",
       "    .dataframe thead th {\n",
       "        text-align: right;\n",
       "    }\n",
       "</style>\n",
       "<table border=\"1\" class=\"dataframe\">\n",
       "  <thead>\n",
       "    <tr style=\"text-align: right;\">\n",
       "      <th></th>\n",
       "      <th>title</th>\n",
       "      <th>num_reviews</th>\n",
       "      <th>avg_rating</th>\n",
       "    </tr>\n",
       "  </thead>\n",
       "  <tbody>\n",
       "    <tr>\n",
       "      <th>0</th>\n",
       "      <td>Memoirs of a Geisha</td>\n",
       "      <td>8</td>\n",
       "      <td>4.14</td>\n",
       "    </tr>\n",
       "    <tr>\n",
       "      <th>1</th>\n",
       "      <td>Twilight (Twilight  #1)</td>\n",
       "      <td>7</td>\n",
       "      <td>3.66</td>\n",
       "    </tr>\n",
       "    <tr>\n",
       "      <th>2</th>\n",
       "      <td>Harry Potter and the Chamber of Secrets (Harry...</td>\n",
       "      <td>6</td>\n",
       "      <td>4.29</td>\n",
       "    </tr>\n",
       "    <tr>\n",
       "      <th>3</th>\n",
       "      <td>The Glass Castle</td>\n",
       "      <td>6</td>\n",
       "      <td>4.21</td>\n",
       "    </tr>\n",
       "    <tr>\n",
       "      <th>4</th>\n",
       "      <td>Eat  Pray  Love</td>\n",
       "      <td>6</td>\n",
       "      <td>3.40</td>\n",
       "    </tr>\n",
       "    <tr>\n",
       "      <th>...</th>\n",
       "      <td>...</td>\n",
       "      <td>...</td>\n",
       "      <td>...</td>\n",
       "    </tr>\n",
       "    <tr>\n",
       "      <th>994</th>\n",
       "      <td>Anne Rice's The Vampire Lestat: A Graphic Novel</td>\n",
       "      <td>0</td>\n",
       "      <td>3.67</td>\n",
       "    </tr>\n",
       "    <tr>\n",
       "      <th>995</th>\n",
       "      <td>The Natural Way to Draw</td>\n",
       "      <td>0</td>\n",
       "      <td>3.00</td>\n",
       "    </tr>\n",
       "    <tr>\n",
       "      <th>996</th>\n",
       "      <td>The Cat in the Hat and Other Dr. Seuss Favorites</td>\n",
       "      <td>0</td>\n",
       "      <td>5.00</td>\n",
       "    </tr>\n",
       "    <tr>\n",
       "      <th>997</th>\n",
       "      <td>Essential Tales and Poems</td>\n",
       "      <td>0</td>\n",
       "      <td>4.00</td>\n",
       "    </tr>\n",
       "    <tr>\n",
       "      <th>998</th>\n",
       "      <td>Disney's Beauty and the Beast (A Little Golden...</td>\n",
       "      <td>0</td>\n",
       "      <td>4.00</td>\n",
       "    </tr>\n",
       "  </tbody>\n",
       "</table>\n",
       "<p>999 rows × 3 columns</p>\n",
       "</div>"
      ],
      "text/plain": [
       "                                                 title  num_reviews  \\\n",
       "0                                  Memoirs of a Geisha            8   \n",
       "1                              Twilight (Twilight  #1)            7   \n",
       "2    Harry Potter and the Chamber of Secrets (Harry...            6   \n",
       "3                                     The Glass Castle            6   \n",
       "4                                      Eat  Pray  Love            6   \n",
       "..                                                 ...          ...   \n",
       "994    Anne Rice's The Vampire Lestat: A Graphic Novel            0   \n",
       "995                            The Natural Way to Draw            0   \n",
       "996   The Cat in the Hat and Other Dr. Seuss Favorites            0   \n",
       "997                          Essential Tales and Poems            0   \n",
       "998  Disney's Beauty and the Beast (A Little Golden...            0   \n",
       "\n",
       "     avg_rating  \n",
       "0          4.14  \n",
       "1          3.66  \n",
       "2          4.29  \n",
       "3          4.21  \n",
       "4          3.40  \n",
       "..          ...  \n",
       "994        3.67  \n",
       "995        3.00  \n",
       "996        5.00  \n",
       "997        4.00  \n",
       "998        4.00  \n",
       "\n",
       "[999 rows x 3 columns]"
      ]
     },
     "execution_count": 14,
     "metadata": {},
     "output_type": "execute_result"
    }
   ],
   "source": [
    "query2 = \"\"\"\n",
    "SELECT \n",
    "    b.title,\n",
    "    COUNT(DISTINCT r.review_id) AS num_reviews,\n",
    "    ROUND(AVG(rt.rating), 2) AS avg_rating\n",
    "FROM books b\n",
    "LEFT JOIN reviews r ON b.book_id = r.book_id\n",
    "LEFT JOIN ratings rt ON b.book_id = rt.book_id\n",
    "GROUP BY b.title\n",
    "ORDER BY num_reviews DESC\n",
    "\"\"\"\n",
    "pd.read_sql(query2, con=engine)\n"
   ]
  },
  {
   "cell_type": "markdown",
   "id": "c3f6d2d5-16bd-47dd-88cd-bff982b966cb",
   "metadata": {},
   "source": [
    "**Conclusión:** Este análisis revela los libros más populares y mejor valorados, lo que puede usarse para destacar títulos en la app.\n"
   ]
  },
  {
   "cell_type": "markdown",
   "id": "c2db816f-c242-4c80-91eb-02307400633b",
   "metadata": {},
   "source": [
    "### 3. Editorial con más libros de más de 50 páginas"
   ]
  },
  {
   "cell_type": "markdown",
   "id": "5e16f36a-c5ff-4376-a6f3-5620c24135a0",
   "metadata": {},
   "source": [
    "**Consulta:** Se filtran libros con más de 50 páginas, se agrupan por editorial y se cuentan.\n",
    "**Objetivo:** Encontrar editoriales que publiquen libros relevantes y no folletos."
   ]
  },
  {
   "cell_type": "code",
   "execution_count": 15,
   "id": "4f86a3c7-0136-4e69-a904-ca47c1996f6f",
   "metadata": {},
   "outputs": [
    {
     "data": {
      "text/html": [
       "<div>\n",
       "<style scoped>\n",
       "    .dataframe tbody tr th:only-of-type {\n",
       "        vertical-align: middle;\n",
       "    }\n",
       "\n",
       "    .dataframe tbody tr th {\n",
       "        vertical-align: top;\n",
       "    }\n",
       "\n",
       "    .dataframe thead th {\n",
       "        text-align: right;\n",
       "    }\n",
       "</style>\n",
       "<table border=\"1\" class=\"dataframe\">\n",
       "  <thead>\n",
       "    <tr style=\"text-align: right;\">\n",
       "      <th></th>\n",
       "      <th>publisher</th>\n",
       "      <th>num_books</th>\n",
       "    </tr>\n",
       "  </thead>\n",
       "  <tbody>\n",
       "    <tr>\n",
       "      <th>0</th>\n",
       "      <td>Penguin Books</td>\n",
       "      <td>42</td>\n",
       "    </tr>\n",
       "  </tbody>\n",
       "</table>\n",
       "</div>"
      ],
      "text/plain": [
       "       publisher  num_books\n",
       "0  Penguin Books         42"
      ]
     },
     "execution_count": 15,
     "metadata": {},
     "output_type": "execute_result"
    }
   ],
   "source": [
    "query3 = \"\"\"\n",
    "SELECT \n",
    "    p.publisher,\n",
    "    COUNT(b.book_id) AS num_books\n",
    "FROM books b\n",
    "JOIN publishers p ON b.publisher_id = p.publisher_id\n",
    "WHERE b.num_pages > 50\n",
    "GROUP BY p.publisher\n",
    "ORDER BY num_books DESC\n",
    "LIMIT 1\n",
    "\"\"\"\n",
    "pd.read_sql(query3, con=engine)"
   ]
  },
  {
   "cell_type": "markdown",
   "id": "5f674477-d37e-4d46-a83c-94421221332f",
   "metadata": {},
   "source": [
    "**Conclusión:** Identifica a la editorial con mayor volumen de libros significativos, útil para alianzas estratégicas o recomendaciones.\n"
   ]
  },
  {
   "cell_type": "markdown",
   "id": "d54df7ee-dc7d-4e39-911c-334474123e41",
   "metadata": {},
   "source": [
    "### 4. Autor con mejor calificación promedio (con mínimo 50 ratings)"
   ]
  },
  {
   "cell_type": "markdown",
   "id": "985965c5-6917-45b4-821a-88692fa03ba0",
   "metadata": {},
   "source": [
    "**Consulta:** Se filtran libros que tienen al menos 50 calificaciones y se calcula el promedio por autor.\n",
    "**Objetivo:** Destacar autores con mejor desempeño según la comunidad."
   ]
  },
  {
   "cell_type": "code",
   "execution_count": 16,
   "id": "947687ec-4064-49a6-801a-2e6573165af8",
   "metadata": {},
   "outputs": [
    {
     "data": {
      "text/html": [
       "<div>\n",
       "<style scoped>\n",
       "    .dataframe tbody tr th:only-of-type {\n",
       "        vertical-align: middle;\n",
       "    }\n",
       "\n",
       "    .dataframe tbody tr th {\n",
       "        vertical-align: top;\n",
       "    }\n",
       "\n",
       "    .dataframe thead th {\n",
       "        text-align: right;\n",
       "    }\n",
       "</style>\n",
       "<table border=\"1\" class=\"dataframe\">\n",
       "  <thead>\n",
       "    <tr style=\"text-align: right;\">\n",
       "      <th></th>\n",
       "      <th>author</th>\n",
       "      <th>avg_rating</th>\n",
       "    </tr>\n",
       "  </thead>\n",
       "  <tbody>\n",
       "    <tr>\n",
       "      <th>0</th>\n",
       "      <td>Diana Gabaldon</td>\n",
       "      <td>4.3</td>\n",
       "    </tr>\n",
       "  </tbody>\n",
       "</table>\n",
       "</div>"
      ],
      "text/plain": [
       "           author  avg_rating\n",
       "0  Diana Gabaldon         4.3"
      ]
     },
     "execution_count": 16,
     "metadata": {},
     "output_type": "execute_result"
    }
   ],
   "source": [
    "query4 = \"\"\"\n",
    "SELECT \n",
    "    a.author,\n",
    "    ROUND(AVG(rt.rating), 2) AS avg_rating\n",
    "FROM books b\n",
    "JOIN authors a ON b.author_id = a.author_id\n",
    "JOIN ratings rt ON b.book_id = rt.book_id\n",
    "GROUP BY a.author\n",
    "HAVING COUNT(rt.rating) >= 50\n",
    "ORDER BY avg_rating DESC\n",
    "LIMIT 1\n",
    "\"\"\"\n",
    "pd.read_sql(query4, con=engine)\n"
   ]
  },
  {
   "cell_type": "markdown",
   "id": "58835f22-985d-46ce-a8e9-3c09d7ecf4bd",
   "metadata": {},
   "source": [
    "**Conclusión:** Muestra el autor más valorado con suficiente base estadística. Ideal para destacar autores clave en el marketing del producto.\n"
   ]
  },
  {
   "cell_type": "markdown",
   "id": "575ebc90-d4dc-4125-a391-8d2669dda0e1",
   "metadata": {},
   "source": [
    "### 5. Promedio de reseñas de texto de usuarios que calificaron más de 50 libros"
   ]
  },
  {
   "cell_type": "markdown",
   "id": "6017633f-1efd-419b-a730-31a10bc2433e",
   "metadata": {},
   "source": [
    "**Consulta:** Se identifican usuarios que han calificado más de 50 libros y se calcula el promedio de reseñas de texto.\n",
    "**Objetivo:** Analizar el comportamiento de los usuarios más activos."
   ]
  },
  {
   "cell_type": "code",
   "execution_count": 17,
   "id": "0d96a1a2-9228-41eb-bb9d-8763e6201945",
   "metadata": {},
   "outputs": [
    {
     "data": {
      "text/html": [
       "<div>\n",
       "<style scoped>\n",
       "    .dataframe tbody tr th:only-of-type {\n",
       "        vertical-align: middle;\n",
       "    }\n",
       "\n",
       "    .dataframe tbody tr th {\n",
       "        vertical-align: top;\n",
       "    }\n",
       "\n",
       "    .dataframe thead th {\n",
       "        text-align: right;\n",
       "    }\n",
       "</style>\n",
       "<table border=\"1\" class=\"dataframe\">\n",
       "  <thead>\n",
       "    <tr style=\"text-align: right;\">\n",
       "      <th></th>\n",
       "      <th>avg_text_reviews</th>\n",
       "    </tr>\n",
       "  </thead>\n",
       "  <tbody>\n",
       "    <tr>\n",
       "      <th>0</th>\n",
       "      <td>24.33</td>\n",
       "    </tr>\n",
       "  </tbody>\n",
       "</table>\n",
       "</div>"
      ],
      "text/plain": [
       "   avg_text_reviews\n",
       "0             24.33"
      ]
     },
     "execution_count": 17,
     "metadata": {},
     "output_type": "execute_result"
    }
   ],
   "source": [
    "query5 = \"\"\"\n",
    "WITH active_users AS (\n",
    "    SELECT username\n",
    "    FROM ratings\n",
    "    GROUP BY username\n",
    "    HAVING COUNT(rating_id) > 50\n",
    ")\n",
    "\n",
    "SELECT \n",
    "    ROUND(AVG(review_count), 2) AS avg_text_reviews\n",
    "FROM (\n",
    "    SELECT username, COUNT(review_id) AS review_count\n",
    "    FROM reviews\n",
    "    WHERE username IN (SELECT username FROM active_users)\n",
    "    GROUP BY username\n",
    ") AS user_reviews\n",
    "\"\"\"\n",
    "pd.read_sql(query5, con=engine)\n",
    "\n"
   ]
  },
  {
   "cell_type": "markdown",
   "id": "39e2afbf-885e-4c13-b386-5cb98eb86c42",
   "metadata": {},
   "source": [
    "**Conclusión:** Permite conocer el nivel de compromiso de usuarios activos, clave para diseñar funciones de comunidad o incentivos para reseñas.\n"
   ]
  },
  {
   "cell_type": "markdown",
   "id": "56ce7df8-3544-4241-8072-03e4a7dce39a",
   "metadata": {},
   "source": [
    "## 🧾 Conclusiones Generales\n",
    "- La mayoría de los libros recientes (después del 2000) están bien representados en la base de datos.\n",
    "- Algunos libros reciben muchas reseñas y calificaciones, lo que ayuda a entender las preferencias de los usuarios.\n",
    "- Hay una editorial destacada en cuanto a volumen de libros sustanciales.\n",
    "- Se identifican autores con alto desempeño basados en calificaciones.\n",
    "- Los usuarios más activos también tienden a escribir más reseñas de texto.\n",
    "\n",
    "Estos hallazgos pueden guiar el desarrollo de funcionalidades dentro de una app de lectura o comunidad literaria.\n"
   ]
  },
  {
   "cell_type": "code",
   "execution_count": null,
   "id": "93399946-55d4-4643-8bdf-1fb3025117d6",
   "metadata": {},
   "outputs": [],
   "source": []
  }
 ],
 "metadata": {
  "kernelspec": {
   "display_name": "Python 3 (ipykernel)",
   "language": "python",
   "name": "python3"
  },
  "language_info": {
   "codemirror_mode": {
    "name": "ipython",
    "version": 3
   },
   "file_extension": ".py",
   "mimetype": "text/x-python",
   "name": "python",
   "nbconvert_exporter": "python",
   "pygments_lexer": "ipython3",
   "version": "3.12.7"
  }
 },
 "nbformat": 4,
 "nbformat_minor": 5
}
